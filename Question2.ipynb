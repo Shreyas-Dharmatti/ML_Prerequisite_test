{
 "cells": [
  {
   "cell_type": "code",
   "execution_count": 4,
   "id": "2d7f4ede-fcf3-45cc-8c5e-1c9e42114ec0",
   "metadata": {},
   "outputs": [
    {
     "name": "stdout",
     "output_type": "stream",
     "text": [
      "Time taken using lists of lists: 0.0807650089263916 seconds\n"
     ]
    }
   ],
   "source": [
    "import time\n",
    "import numpy as np\n",
    "\n",
    "def matrix_multiply(A, B):\n",
    "    n = len(A)\n",
    "    k = len(A[0])\n",
    "    m = len(B[0])\n",
    "    C = [[0] * m for _ in range(n)]\n",
    "    \n",
    "    for i in range(n):\n",
    "        for j in range(m):\n",
    "            for p in range(k):\n",
    "                C[i][j] += A[i][p] * B[p][j]\n",
    "    \n",
    "    return C\n",
    "\n",
    "# Example matrices\n",
    "n, k, m = 100, 200, 50\n",
    "A = [[np.random.uniform(0, 10) for _ in range(k)] for _ in range(n)]\n",
    "B = [[np.random.uniform(0, 10) for _ in range(m)] for _ in range(k)]\n",
    "\n",
    "start_time = time.time()\n",
    "C_lists = matrix_multiply(A, B)\n",
    "end_time = time.time()\n",
    "time_lists = end_time - start_time\n",
    "\n",
    "print(f\"Time taken using lists of lists: {time_lists} seconds\")\n"
   ]
  },
  {
   "cell_type": "code",
   "execution_count": 5,
   "id": "0312df16-6b2d-42b4-8c74-9b34666e9713",
   "metadata": {},
   "outputs": [
    {
     "name": "stdout",
     "output_type": "stream",
     "text": [
      "Time taken using NumPy: 0.020593881607055664 seconds\n"
     ]
    }
   ],
   "source": [
    "# Convert lists of lists to NumPy arrays\n",
    "A_np = np.array(A)\n",
    "B_np = np.array(B)\n",
    "\n",
    "start_time = time.time()\n",
    "C_np = np.dot(A_np, B_np)\n",
    "end_time = time.time()\n",
    "time_numpy = end_time - start_time\n",
    "\n",
    "print(f\"Time taken using NumPy: {time_numpy} seconds\")"
   ]
  },
  {
   "cell_type": "code",
   "execution_count": null,
   "id": "fc556fc2-ea37-48e7-97bf-6d328239c6be",
   "metadata": {},
   "outputs": [],
   "source": []
  }
 ],
 "metadata": {
  "kernelspec": {
   "display_name": "Python 3 (ipykernel)",
   "language": "python",
   "name": "python3"
  },
  "language_info": {
   "codemirror_mode": {
    "name": "ipython",
    "version": 3
   },
   "file_extension": ".py",
   "mimetype": "text/x-python",
   "name": "python",
   "nbconvert_exporter": "python",
   "pygments_lexer": "ipython3",
   "version": "3.11.2"
  }
 },
 "nbformat": 4,
 "nbformat_minor": 5
}
