{
 "cells": [
  {
   "cell_type": "code",
   "execution_count": null,
   "id": "852f18bd-31aa-466d-abca-8ef980d7accc",
   "metadata": {},
   "outputs": [],
   "source": [
    "import numpy as np\n",
    "\n",
    "a = np.array([1, 2, 3])\n",
    "b = np.array([[1,1,1], [5,5,5], [10,10,10]])\n",
    "\n",
    "result = a + b\n",
    "result1= a*b\n",
    "result2= a-b\n",
    "\n",
    "print(\"\\nResult of broadcasting (a + b):\")\n",
    "print(result)\n",
    "print(\"\\nResult of broadcasting (a - b):\")\n",
    "print(result2)\n",
    "print(\"\\nResult of broadcasting (a * b):\")\n",
    "print(result1)\n"
   ]
  },
  {
   "cell_type": "markdown",
   "id": "05260e6d-3685-4fe8-8528-149f92d4f8ae",
   "metadata": {},
   "source": [
    "Broadcasting allows us to perform arithmethic operations on two arrays of different sizes. The smaller size matrix is stretched to make it equal in size to the bigger sized matrix, and then the corresponding arithmetic operation is performed"
   ]
  }
 ],
 "metadata": {
  "kernelspec": {
   "display_name": "Python 3 (ipykernel)",
   "language": "python",
   "name": "python3"
  },
  "language_info": {
   "codemirror_mode": {
    "name": "ipython",
    "version": 3
   },
   "file_extension": ".py",
   "mimetype": "text/x-python",
   "name": "python",
   "nbconvert_exporter": "python",
   "pygments_lexer": "ipython3",
   "version": "3.11.2"
  }
 },
 "nbformat": 4,
 "nbformat_minor": 5
}
