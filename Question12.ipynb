{
 "cells": [
  {
   "cell_type": "code",
   "execution_count": 2,
   "id": "d4290ea0-133a-4a2c-b8c8-936a60b891fd",
   "metadata": {},
   "outputs": [
    {
     "name": "stdout",
     "output_type": "stream",
     "text": [
      "\n",
      "Result of broadcasting (a + b):\n",
      "[[ 2  3  4]\n",
      " [ 6  7  8]\n",
      " [11 12 13]]\n",
      "\n",
      "Result of broadcasting (a - b):\n",
      "[[ 0  1  2]\n",
      " [-4 -3 -2]\n",
      " [-9 -8 -7]]\n",
      "\n",
      "Result of broadcasting (a * b):\n",
      "[[ 1  2  3]\n",
      " [ 5 10 15]\n",
      " [10 20 30]]\n"
     ]
    }
   ],
   "source": [
    "import numpy as np\n",
    "\n",
    "a = np.array([1, 2, 3])\n",
    "b = np.array([[1,1,1], [5,5,5], [10,10,10]])\n",
    "\n",
    "\n",
    "result = a + b\n",
    "result1= a*b\n",
    "result2= a-b\n",
    "\n",
    "print(\"\\nResult of broadcasting (a + b):\")\n",
    "print(result)\n",
    "print(\"\\nResult of broadcasting (a - b):\")\n",
    "print(result2)\n",
    "print(\"\\nResult of broadcasting (a * b):\")\n",
    "print(result1)\n"
   ]
  },
  {
   "cell_type": "code",
   "execution_count": null,
   "id": "47424985-7cf4-4bb6-8e8d-1e04e9b2c92b",
   "metadata": {},
   "outputs": [],
   "source": []
  }
 ],
 "metadata": {
  "kernelspec": {
   "display_name": "Python 3 (ipykernel)",
   "language": "python",
   "name": "python3"
  },
  "language_info": {
   "codemirror_mode": {
    "name": "ipython",
    "version": 3
   },
   "file_extension": ".py",
   "mimetype": "text/x-python",
   "name": "python",
   "nbconvert_exporter": "python",
   "pygments_lexer": "ipython3",
   "version": "3.11.2"
  }
 },
 "nbformat": 4,
 "nbformat_minor": 5
}
