{
  "metadata": {
    "kernelspec": {
      "name": "python",
      "display_name": "Python (Pyodide)",
      "language": "python"
    },
    "language_info": {
      "codemirror_mode": {
        "name": "python",
        "version": 3
      },
      "file_extension": ".py",
      "mimetype": "text/x-python",
      "name": "python",
      "nbconvert_exporter": "python",
      "pygments_lexer": "ipython3",
      "version": "3.8"
    }
  },
  "nbformat_minor": 4,
  "nbformat": 4,
  "cells": [
    {
      "cell_type": "markdown",
      "source": "What is the gradient of the following function with respect to x and y? f=\n$(x^2)y + (y^3)sin(x)$",
      "metadata": {}
    },
    {
      "cell_type": "markdown",
      "source": "df/dx = \n$2xy + (y^3)cos(x)$",
      "metadata": {}
    },
    {
      "cell_type": "markdown",
      "source": "df/dy =\n$(x^2) + (3y^2)sin(x)$",
      "metadata": {}
    },
    {
      "cell_type": "markdown",
      "source": "Gradient of the following function with respect to x and y\n$∇f(x,y)=(2xy+y 
3
 cos(x),x 
2
 +3y 
2
 sin(x))

$",
      "metadata": {}
    }
  ]
}
