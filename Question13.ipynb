{
 "cells": [
  {
   "cell_type": "code",
   "execution_count": 20,
   "id": "b0e778dd-2e20-4b0f-afde-5f948c377635",
   "metadata": {},
   "outputs": [
    {
     "data": {
      "text/plain": [
       "4"
      ]
     },
     "execution_count": 20,
     "metadata": {},
     "output_type": "execute_result"
    }
   ],
   "source": [
    "import numpy as np\n",
    "\n",
    "def argmin(a):\n",
    "    if len(a) == 0:\n",
    "        raise ValueError(\"Given array is an empty array\")\n",
    "    \n",
    "    l = len(a)\n",
    "    min = 0 \n",
    "    for i in range(1, l):\n",
    "        if a[i]<= a[min]:\n",
    "            min = i\n",
    "\n",
    "    return min\n",
    "    \n",
    "a = np.array([12,2,3,3,-9,2,4])\n",
    "argmin(a)\n",
    "\n",
    "#print(\"Computed using function argument of min element:\",)\n",
    "#print(\"Computed usinf numpy argument of min element :\", np_argmin)\n"
   ]
  },
  {
   "cell_type": "markdown",
   "id": "b8298c8e-ad5f-4bde-9407-84f6877209eb",
   "metadata": {},
   "source": [
    "The index is the 4th index(0-based indexing), which corresponds to number -9. Lets check using np.argmin() function"
   ]
  },
  {
   "cell_type": "code",
   "execution_count": 21,
   "id": "12f17f0f-9749-4e7c-96f9-583c3f245cb5",
   "metadata": {},
   "outputs": [
    {
     "name": "stdout",
     "output_type": "stream",
     "text": [
      "4\n"
     ]
    }
   ],
   "source": [
    "print(np.argmin(a))"
   ]
  },
  {
   "cell_type": "markdown",
   "id": "9b616cf7-0995-4020-bcfe-f0133145bade",
   "metadata": {},
   "source": [
    "The ans is 4. Thus verified"
   ]
  },
  {
   "cell_type": "code",
   "execution_count": null,
   "id": "29190932-748f-47cc-9f63-b45acb221788",
   "metadata": {},
   "outputs": [],
   "source": []
  }
 ],
 "metadata": {
  "kernelspec": {
   "display_name": "Python 3 (ipykernel)",
   "language": "python",
   "name": "python3"
  },
  "language_info": {
   "codemirror_mode": {
    "name": "ipython",
    "version": 3
   },
   "file_extension": ".py",
   "mimetype": "text/x-python",
   "name": "python",
   "nbconvert_exporter": "python",
   "pygments_lexer": "ipython3",
   "version": "3.11.2"
  }
 },
 "nbformat": 4,
 "nbformat_minor": 5
}
