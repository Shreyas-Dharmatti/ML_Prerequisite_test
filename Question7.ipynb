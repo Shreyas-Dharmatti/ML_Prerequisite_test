{
 "cells": [
  {
   "cell_type": "markdown",
   "id": "65c2b934-ab8f-441d-85fa-d4284209c204",
   "metadata": {},
   "source": [
    "Here is the following dictonary storing the student records"
   ]
  },
  {
   "cell_type": "code",
   "execution_count": null,
   "id": "b99237dd-dcc7-4c20-93da-f348ad8c95d5",
   "metadata": {},
   "outputs": [],
   "source": [
    "students_records = {\n",
    "    2022: {\n",
    "        'Branch 1': {\n",
    "            1: {'Name': 'Adi', 'Marks': {'Maths': 100, 'English': 70}},\n",
    "            2: {'Name': 'Ben', 'Marks': {'Maths': 95, 'English': 80}},\n",
    "        },\n",
    "        'Branch 2': {\n",
    "            1: {'Name': 'Shreyas', 'Marks': {'Maths': 100, 'English': 87}},\n",
    "            2: {'Name': 'Shreya', 'Marks': {'Maths': 85, 'English': 75}},\n",
    "        },\n",
    "    },\n",
    "    2023: {\n",
    "        'Branch 1': {\n",
    "            1: {'Name': 'Aditya', 'Marks': {'Maths': 88, 'English': 78}},\n",
    "            2: {'Name': 'Kanika', 'Marks': {'Maths': 92, 'English': 82}},\n",
    "        },\n",
    "        'Branch 2': {\n",
    "            1: {'Name': 'Rahul', 'Marks': {'Maths': 89, 'English': 79}},\n",
    "            2: {'Name': 'Hitesh', 'Marks': {'Maths': 94, 'English': 84}},\n",
    "        },\n",
    "    },\n",
    "    2024: {\n",
    "        'Branch 1': {\n",
    "            1: {'Name': 'Tanmay', 'Marks': {'Maths': 85, 'English': 80}},\n",
    "            2: {'Name': 'Shreyas', 'Marks': {'Maths': 87, 'English': 77}},\n",
    "        },\n",
    "        'Branch 2': {\n",
    "            1: {'Name': 'Manit', 'Marks': {'Maths': 90, 'English': 85}},\n",
    "            2: {'Name': 'Niraj', 'Marks': {'Maths': 100, 'English': 81}},\n",
    "        },\n",
    "    },\n",
    "    2025: {\n",
    "        'Branch 1': {\n",
    "            1: {'Name': 'Shreya', 'Marks': {'Maths': 93, 'English': 83}},\n",
    "            2: {'Name': 'Pritish', 'Marks': {'Maths': 88, 'English': 78}},\n",
    "        },\n",
    "        'Branch 2': {\n",
    "            1: {'Name': 'Sid', 'Marks': {'Maths': 92, 'English': 82}},\n",
    "            2: {'Name': 'Terry', 'Marks': {'Maths': 89, 'English': 91}},\n",
    "        },\n",
    "    },\n",
    "}"
   ]
  }
 ],
 "metadata": {
  "kernelspec": {
   "display_name": "Python 3 (ipykernel)",
   "language": "python",
   "name": "python3"
  },
  "language_info": {
   "codemirror_mode": {
    "name": "ipython",
    "version": 3
   },
   "file_extension": ".py",
   "mimetype": "text/x-python",
   "name": "python",
   "nbconvert_exporter": "python",
   "pygments_lexer": "ipython3",
   "version": "3.11.2"
  }
 },
 "nbformat": 4,
 "nbformat_minor": 5
}
