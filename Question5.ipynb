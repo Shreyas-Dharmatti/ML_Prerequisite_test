{
 "cells": [
  {
   "cell_type": "code",
   "execution_count": 17,
   "id": "0aa6811c-d561-4a1a-ba24-c0a5a1f18c39",
   "metadata": {},
   "outputs": [
    {
     "name": "stdout",
     "output_type": "stream",
     "text": [
      "Pair 1: x = 8, y = 0\n",
      "Gradient with respect to x: 0.0\n",
      "Gradient with respect to y: 64.0\n",
      "\n",
      "Pair 2: x = 3, y = 5\n",
      "Gradient with respect to x: -93.74906158447266\n",
      "Gradient with respect to y: 19.583999633789062\n",
      "\n",
      "Pair 3: x = 7, y = 4\n",
      "Gradient with respect to x: 104.24974060058594\n",
      "Gradient with respect to y: 80.53535461425781\n",
      "\n",
      "Pair 4: x = 5, y = 1\n",
      "Gradient with respect to x: 10.283661842346191\n",
      "Gradient with respect to y: 22.123226165771484\n",
      "\n",
      "Pair 5: x = 3, y = 4\n",
      "Gradient with respect to x: -39.359519958496094\n",
      "Gradient with respect to y: 15.773759841918945\n",
      "\n",
      "Pair 6: x = 1, y = 6\n",
      "Gradient with respect to x: 128.70529174804688\n",
      "Gradient with respect to y: 91.87886047363281\n",
      "\n"
     ]
    }
   ],
   "source": [
    "import jax\n",
    "import jax.numpy as jnp\n",
    "import numpy as np\n",
    "\n",
    "def f(x, y):\n",
    "    return x**2 * y + y**3 * jnp.sin(x)\n",
    "\n",
    "grad_f = jax.grad(f, argnums=(0, 1))\n",
    "\n",
    "random_pairs = [(np.random.randint(0, 10), np.random.randint(0, 10)) for _ in range(6)]\n",
    "\n",
    "for i, (x_val, y_val) in enumerate(random_pairs, start=1):\n",
    "    grad_values = grad_f(float(x_val), float(y_val))\n",
    "    print(f\"Pair {i}: x = {x_val}, y = {y_val}\")\n",
    "    print(f\"Gradient with respect to x: {grad_values[0]}\")\n",
    "    print(f\"Gradient with respect to y: {grad_values[1]}\\n\")\n"
   ]
  },
  {
   "cell_type": "code",
   "execution_count": null,
   "id": "0d8ea865-d4ca-4e7b-aad0-9b47baa12fa0",
   "metadata": {},
   "outputs": [],
   "source": []
  },
  {
   "cell_type": "code",
   "execution_count": null,
   "id": "8ce1a676-0d4f-4e2e-ba9c-9c89457565e5",
   "metadata": {},
   "outputs": [],
   "source": []
  }
 ],
 "metadata": {
  "kernelspec": {
   "display_name": "Python 3 (ipykernel)",
   "language": "python",
   "name": "python3"
  },
  "language_info": {
   "codemirror_mode": {
    "name": "ipython",
    "version": 3
   },
   "file_extension": ".py",
   "mimetype": "text/x-python",
   "name": "python",
   "nbconvert_exporter": "python",
   "pygments_lexer": "ipython3",
   "version": "3.11.2"
  }
 },
 "nbformat": 4,
 "nbformat_minor": 5
}
