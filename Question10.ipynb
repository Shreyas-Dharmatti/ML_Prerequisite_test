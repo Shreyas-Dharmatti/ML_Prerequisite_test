{
 "cells": [
  {
   "cell_type": "code",
   "execution_count": 7,
   "id": "4c9b8cf5-116c-4298-98bb-0904c5103544",
   "metadata": {},
   "outputs": [
    {
     "name": "stdout",
     "output_type": "stream",
     "text": [
      "DataFrame:\n",
      "           a         b         c         d         e\n",
      "0   1.145769  1.200572  1.553746  1.572951  1.658507\n",
      "1   1.673243  1.451956  1.761274  1.267968  1.111569\n",
      "2   1.888113  1.825431  1.005871  1.099318  1.625656\n",
      "3   1.238142  1.958164  1.598554  1.457286  1.803918\n",
      "4   1.879982  1.037629  1.012270  1.423073  1.519852\n",
      "5   1.035678  1.575716  1.721313  1.899687  1.102391\n",
      "6   1.312730  1.004308  1.739994  1.371162  1.672981\n",
      "7   1.970351  1.587257  1.074695  1.951403  1.125172\n",
      "8   1.585305  1.307434  1.747244  1.408096  1.842305\n",
      "9   1.605251  1.350665  1.272096  1.269279  1.424679\n",
      "10  1.839424  1.271781  1.372340  1.429281  1.929103\n",
      "11  1.340033  1.603176  1.244127  1.013713  1.596970\n",
      "12  1.019534  1.410432  1.939413  1.957330  1.865587\n",
      "13  1.102140  1.280838  1.027325  1.640584  1.264416\n",
      "14  1.735637  1.629693  1.682603  1.642641  1.359333\n",
      "15  1.429734  1.779678  1.712395  1.634653  1.330688\n",
      "16  1.609740  1.201034  1.832154  1.987903  1.852829\n",
      "17  1.174890  1.005062  1.003349  1.688116  1.356479\n",
      "18  1.390697  1.572675  1.892840  1.295403  1.587910\n",
      "19  1.912639  1.126874  1.054597  1.033603  1.926400\n",
      "\n",
      "Column with the highest standard deviation: c\n",
      "Row with the lowest mean (index): 17\n"
     ]
    }
   ],
   "source": [
    "import numpy as np\n",
    "import pandas as pd\n",
    "\n",
    "matrix = np.random.uniform(1, 2, size=(20, 5))\n",
    "\n",
    "df = pd.DataFrame(matrix, columns=[\"a\", \"b\", \"c\", \"d\", \"e\"]) # creating a dataframe\n",
    "\n",
    "column_with_highest_std = df.std().idxmax() #column with highest std deviation\n",
    "\n",
    "row_with_lowest_mean = df.mean(axis=1).idxmin() #row with lowest row\n",
    "\n",
    "print(\"DataFrame:\")\n",
    "print(df)\n",
    "print(f\"\\nColumn with the highest standard deviation: {column_with_highest_std}\")\n",
    "print(f\"Row with the lowest mean (index): {row_with_lowest_mean}\")\n"
   ]
  },
  {
   "cell_type": "code",
   "execution_count": null,
   "id": "a69558fa-ac5a-4a29-92d8-aa247802138a",
   "metadata": {},
   "outputs": [],
   "source": []
  }
 ],
 "metadata": {
  "kernelspec": {
   "display_name": "Python 3 (ipykernel)",
   "language": "python",
   "name": "python3"
  },
  "language_info": {
   "codemirror_mode": {
    "name": "ipython",
    "version": 3
   },
   "file_extension": ".py",
   "mimetype": "text/x-python",
   "name": "python",
   "nbconvert_exporter": "python",
   "pygments_lexer": "ipython3",
   "version": "3.11.2"
  }
 },
 "nbformat": 4,
 "nbformat_minor": 5
}
